{
  "nbformat": 4,
  "nbformat_minor": 0,
  "metadata": {
    "colab": {
      "provenance": []
    },
    "kernelspec": {
      "name": "python3",
      "display_name": "Python 3"
    },
    "language_info": {
      "name": "python"
    }
  },
  "cells": [
    {
      "cell_type": "code",
      "source": [
        "\n",
        "import os\n",
        "import pandas as pd\n",
        "import numpy as np\n",
        "from tkinter import *\n",
        "from tkinter import filedialog\n",
        "import tkinter.font as font\n",
        "from functools import partial\n",
        "from sklearn import datasets, linear_model"
      ],
      "metadata": {
        "colab": {
          "base_uri": "https://localhost:8080/"
        },
        "id": "c4LoHOAzFgB0",
        "outputId": "14393526-73a5-44c5-c0e2-201b3669bebc"
      },
      "execution_count": 15,
      "outputs": [
        {
          "output_type": "stream",
          "name": "stdout",
          "text": [
            "Looking in indexes: https://pypi.org/simple, https://us-python.pkg.dev/colab-wheels/public/simple/\n",
            "\u001b[31mERROR: Could not find a version that satisfies the requirement tkinter (from versions: none)\u001b[0m\u001b[31m\n",
            "\u001b[0m\u001b[31mERROR: No matching distribution found for tkinter\u001b[0m\u001b[31m\n",
            "\u001b[0m"
          ]
        }
      ]
    },
    {
      "cell_type": "code",
      "source": [
        "class train_model:\n",
        "\n",
        "    def train(self):\n",
        "        data =pd.read_csv('/content/Dataset/training_dataset.csv')\n",
        "        array = data.values\n",
        "\n",
        "        for i in range(len(array)):\n",
        "            if array[i][0]==\"Male\":\n",
        "                array[i][0]=1\n",
        "            else:\n",
        "                array[i][0]=0\n",
        "\n",
        "\n",
        "        df=pd.DataFrame(array)\n",
        "\n",
        "        maindf =df[[0,1,2,3,4,5,6]]\n",
        "        mainarray=maindf.values\n",
        "\n",
        "        temp=df[7]\n",
        "        train_y =temp.values\n",
        "\n",
        "        self.mul_lr = linear_model.LogisticRegression(multi_class='multinomial', solver='newton-cg',max_iter =1000)\n",
        "        self.mul_lr.fit(mainarray, train_y)\n",
        "\n",
        "    def test(self, test_data):\n",
        "        try:\n",
        "            test_predict=list()\n",
        "            for i in test_data:\n",
        "                test_predict.append(int(i))\n",
        "            y_pred = self.mul_lr.predict([test_predict])\n",
        "            return y_pred\n",
        "        except:\n",
        "            print(\"All Factors For Personality Prediction Not Entered!\")\n"
      ],
      "metadata": {
        "id": "xVo6qGQEHqAm"
      },
      "execution_count": 13,
      "outputs": []
    },
    {
      "cell_type": "code",
      "source": [
        "def check_type(data):\n",
        "    if type(data)==str or type(data)==str:\n",
        "        return str(data).title()\n",
        "    if type(data)==list or type(data)==tuple:\n",
        "        str_list=\"\"\n",
        "        for i,item in enumerate(data):\n",
        "            str_list+=item+\", \"\n",
        "        return str_list\n",
        "    else:   return str(data)"
      ],
      "metadata": {
        "id": "FQ84hPt9Hzd1"
      },
      "execution_count": 8,
      "outputs": []
    },
    {
      "cell_type": "code",
      "source": [
        "def prediction_result(top, aplcnt_name, cv_path, personality_values):\n",
        "    \"after applying a job\"\n",
        "    top.withdraw()\n",
        "    applicant_data={\"Candidate Name\":aplcnt_name.get(),  \"CV Location\":cv_path}\n",
        "\n",
        "    age = personality_values[1]\n",
        "\n",
        "    print(\"\\n############# Candidate Entered Data #############\\n\")\n",
        "    print(applicant_data, personality_values)\n",
        "\n",
        "    personality = model.test(personality_values)\n",
        "    print(\"\\n############# Predicted Personality #############\\n\")\n",
        "    print(personality)\n",
        "    data = ResumeParser(cv_path).get_extracted_data()\n",
        "\n",
        "    try:\n",
        "        del data['name']\n",
        "        if len(data['mobile_number'])<10:\n",
        "            del data['mobile_number']\n",
        "    except:\n",
        "        pass\n",
        "\n",
        "    print(\"\\n############# Resume Parsed Data #############\\n\")\n",
        "\n",
        "    for key in data.keys():\n",
        "        if data[key] is not None:\n",
        "            print('{} : {}'.format(key,data[key]))\n",
        "\n",
        "    result=Tk()\n",
        "  #  result.geometry('700x550')\n",
        "    result.overrideredirect(False)\n",
        "    result.geometry(\"{0}x{1}+0+0\".format(result.winfo_screenwidth(), result.winfo_screenheight()))\n",
        "    result.configure(background='White')\n",
        "    result.title(\"Predicted Personality\")\n",
        "\n",
        "    #Title\n",
        "    titleFont = font.Font(family='Arial', size=40, weight='bold')\n",
        "    Label(result, text=\"Result - Personality Prediction\", foreground='green', bg='white', font=titleFont, pady=10, anchor=CENTER).pack(fill=BOTH)\n",
        "\n",
        "    Label(result, text = str('{} : {}'.format(\"Name:\", aplcnt_name.get())).title(), foreground='black', bg='white', anchor='w').pack(fill=BOTH)\n",
        "    Label(result, text = str('{} : {}'.format(\"Age:\", age)), foreground='black', bg='white', anchor='w').pack(fill=BOTH)\n",
        "    for key in data.keys():\n",
        "        if data[key] is not None:\n",
        "            Label(result, text = str('{} : {}'.format(check_type(key.title()),check_type(data[key]))), foreground='black', bg='white', anchor='w', width=60).pack(fill=BOTH)\n",
        "    Label(result, text = str(\"perdicted personality: \"+personality).title(), foreground='black', bg='white', anchor='w').pack(fill=BOTH)\n",
        "\n",
        "    quitBtn = Button(result, text=\"Exit\", command =lambda:  result.destroy()).pack()\n",
        "\n",
        "    terms_mean = \"\"\"\n",
        "    # Openness:\n",
        "    People who like to learn new things and enjoy new experiences usually score high in openness. Openness includes traits like being insightful and imaginative and having a wide variety of interests.\n",
        "# Conscientiousness:\n",
        "    People that have a high degree of conscientiousness are reliable and prompt. Traits include being organised, methodic, and thorough.\n",
        "# Extraversion:\n",
        "    Extraversion traits include being; energetic, talkative, and assertive (sometime seen as outspoken by Introverts). Extraverts get their energy and drive from others, while introverts are self-driven get their drive from within themselves.\n",
        "# Agreeableness:\n",
        "    As it perhaps sounds, these individuals are warm, friendly, compassionate and cooperative and traits include being kind, affectionate, and sympathetic. In contrast, people with lower levels of agreeableness may be more distant.\n",
        "# Neuroticism:\n",
        "    Neuroticism or Emotional Stability relates to degree of negative emotions. People that score high on neuroticism often experience emotional instability and negative emotions. Characteristics typically include being moody and tense.\n",
        "\"\"\"\n",
        "    Label(result, text = terms_mean, foreground='green', bg='white', anchor='w', justify=LEFT).pack(fill=BOTH)\n",
        "\n",
        "    result.mainloop()"
      ],
      "metadata": {
        "id": "layPELg_H-Js"
      },
      "execution_count": 9,
      "outputs": []
    },
    {
      "cell_type": "code",
      "source": [
        "def perdict_person():\n",
        "    \"\"\"Predict Personality\"\"\"\n",
        "\n",
        "    # Closing The Previous Window\n",
        "    root.withdraw()\n",
        "\n",
        "    # Creating new window\n",
        "    top = Toplevel()\n",
        "    top.geometry('700x500')\n",
        "    top.configure(background='black')\n",
        "    top.title(\"Apply For A Job\")\n",
        "\n",
        "    #Title\n",
        "    titleFont = font.Font(family='Helvetica', size=20, weight='bold')\n",
        "    lab=Label(top, text=\"Personality Prediction\", foreground='red', bg='black', font=titleFont, pady=10).pack()\n",
        "\n",
        "    #Job_Form\n",
        "    job_list=('Select Job', '101-Developer at TTC', '102-Chef at Taj', '103-Professor at MIT')\n",
        "    job = StringVar(top)\n",
        "    job.set(job_list[0])\n",
        "\n",
        "    l1=Label(top, text=\"Applicant Name\", foreground='white', bg='black').place(x=70, y=130)\n",
        "    l2=Label(top, text=\"Age\", foreground='white', bg='black').place(x=70, y=160)\n",
        "    l3=Label(top, text=\"Gender\", foreground='white', bg='black').place(x=70, y=190)\n",
        "    l4=Label(top, text=\"Upload Resume\", foreground='white', bg='black').place(x=70, y=220)\n",
        "    l5=Label(top, text=\"Enjoy New Experience or thing(Openness)\", foreground='white', bg='black').place(x=70, y=250)\n",
        "    l6=Label(top, text=\"How Offen You Feel Negativity(Neuroticism)\", foreground='white', bg='black').place(x=70, y=280)\n",
        "    l7=Label(top, text=\"Wishing to do one's work well and thoroughly(Conscientiousness)\", foreground='white', bg='black').place(x=70, y=310)\n",
        "    l8=Label(top, text=\"How much would you like work with your peers(Agreeableness)\", foreground='white', bg='black').place(x=70, y=340)\n",
        "    l9=Label(top, text=\"How outgoing and social interaction you like(Extraversion)\", foreground='white', bg='black').place(x=70, y=370)\n",
        "\n",
        "    sName=Entry(top)\n",
        "    sName.place(x=450, y=130, width=160)\n",
        "    age=Entry(top)\n",
        "    age.place(x=450, y=160, width=160)\n",
        "    gender = IntVar()\n",
        "    R1 = Radiobutton(top, text=\"Male\", variable=gender, value=1, padx=7)\n",
        "    R1.place(x=450, y=190)\n",
        "    R2 = Radiobutton(top, text=\"Female\", variable=gender, value=0, padx=3)\n",
        "    R2.place(x=540, y=190)\n",
        "    cv=Button(top, text=\"Select File\", command=lambda:  OpenFile(cv))\n",
        "    cv.place(x=450, y=220, width=160)\n",
        "    openness=Entry(top)\n",
        "    openness.insert(0,'1-10')\n",
        "    openness.place(x=450, y=250, width=160)\n",
        "    neuroticism=Entry(top)\n",
        "    neuroticism.insert(0,'1-10')\n",
        "    neuroticism.place(x=450, y=280, width=160)\n",
        "    conscientiousness=Entry(top)\n",
        "    conscientiousness.insert(0,'1-10')\n",
        "    conscientiousness.place(x=450, y=310, width=160)\n",
        "    agreeableness=Entry(top)\n",
        "    agreeableness.insert(0,'1-10')\n",
        "    agreeableness.place(x=450, y=340, width=160)\n",
        "    extraversion=Entry(top)\n",
        "    extraversion.insert(0,'1-10')\n",
        "    extraversion.place(x=450, y=370, width=160)\n",
        "\n",
        "    submitBtn=Button(top, padx=2, pady=0, text=\"Submit\", bd=0, foreground='white', bg='red', font=(12))\n",
        "    submitBtn.config(command=lambda: prediction_result(top,sName,loc,(gender.get(),age.get(),openness.get(),neuroticism.get(),conscientiousness.get(),agreeableness.get(),extraversion.get())))\n",
        "    submitBtn.place(x=350, y=400, width=200)\n",
        "\n",
        "\n",
        "    top.mainloop()"
      ],
      "metadata": {
        "id": "Cbr4tgcJIVWI"
      },
      "execution_count": 10,
      "outputs": []
    },
    {
      "cell_type": "code",
      "source": [
        "def OpenFile(b4):\n",
        "    global loc;\n",
        "    name = filedialog.askopenfilename(initialdir=\"C:/Users/Batman/Documents/Programming/tkinter/\",\n",
        "                            filetypes =((\"Document\",\"*.docx*\"),(\"PDF\",\"*.pdf*\"),('All files', '*')),\n",
        "                           title = \"Choose a file.\"\n",
        "                           )\n",
        "    try:\n",
        "        filename=os.path.basename(name)\n",
        "        loc=name\n",
        "    except:\n",
        "        filename=name\n",
        "        loc=name\n",
        "    b4.config(text=filename)\n",
        "    return"
      ],
      "metadata": {
        "id": "-Q3mWZSaIc5-"
      },
      "execution_count": 11,
      "outputs": []
    },
    {
      "cell_type": "code",
      "source": [
        "if __name__ == \"__main__\":\n",
        "    model = train_model()\n",
        "    model.train()\n",
        "\n",
        "    root = Tk()\n",
        "    root.geometry('700x500')\n",
        "    root.configure(background='white')\n",
        "    root.title(\"Personality Prediction System\")\n",
        "    titleFont = font.Font(family='Helvetica', size=25, weight='bold')\n",
        "    homeBtnFont = font.Font(size=12, weight='bold')\n",
        "    lab=Label(root, text=\"Personality Prediction System\", bg='white', font=titleFont, pady=30).pack()\n",
        "    b2=Button(root, padx=4, pady=4, width=30, text=\"Predict Personality\", bg='black', foreground='white', bd=1, font=homeBtnFont, command=perdict_person).place(relx=0.5, rely=0.5, anchor=CENTER)\n",
        "    root.mainloop()"
      ],
      "metadata": {
        "colab": {
          "base_uri": "https://localhost:8080/",
          "height": 356
        },
        "id": "sxlAiodIIioI",
        "outputId": "1d048db6-3b00-40b0-db57-2f366b32d978"
      },
      "execution_count": 16,
      "outputs": [
        {
          "output_type": "error",
          "ename": "TclError",
          "evalue": "ignored",
          "traceback": [
            "\u001b[0;31m---------------------------------------------------------------------------\u001b[0m",
            "\u001b[0;31mTclError\u001b[0m                                  Traceback (most recent call last)",
            "\u001b[0;32m<ipython-input-16-260b49243094>\u001b[0m in \u001b[0;36m<cell line: 1>\u001b[0;34m()\u001b[0m\n\u001b[1;32m      3\u001b[0m     \u001b[0mmodel\u001b[0m\u001b[0;34m.\u001b[0m\u001b[0mtrain\u001b[0m\u001b[0;34m(\u001b[0m\u001b[0;34m)\u001b[0m\u001b[0;34m\u001b[0m\u001b[0;34m\u001b[0m\u001b[0m\n\u001b[1;32m      4\u001b[0m \u001b[0;34m\u001b[0m\u001b[0m\n\u001b[0;32m----> 5\u001b[0;31m     \u001b[0mroot\u001b[0m \u001b[0;34m=\u001b[0m \u001b[0mTk\u001b[0m\u001b[0;34m(\u001b[0m\u001b[0;34m)\u001b[0m\u001b[0;34m\u001b[0m\u001b[0;34m\u001b[0m\u001b[0m\n\u001b[0m\u001b[1;32m      6\u001b[0m     \u001b[0mroot\u001b[0m\u001b[0;34m.\u001b[0m\u001b[0mgeometry\u001b[0m\u001b[0;34m(\u001b[0m\u001b[0;34m'700x500'\u001b[0m\u001b[0;34m)\u001b[0m\u001b[0;34m\u001b[0m\u001b[0;34m\u001b[0m\u001b[0m\n\u001b[1;32m      7\u001b[0m     \u001b[0mroot\u001b[0m\u001b[0;34m.\u001b[0m\u001b[0mconfigure\u001b[0m\u001b[0;34m(\u001b[0m\u001b[0mbackground\u001b[0m\u001b[0;34m=\u001b[0m\u001b[0;34m'white'\u001b[0m\u001b[0;34m)\u001b[0m\u001b[0;34m\u001b[0m\u001b[0;34m\u001b[0m\u001b[0m\n",
            "\u001b[0;32m/usr/lib/python3.10/tkinter/__init__.py\u001b[0m in \u001b[0;36m__init__\u001b[0;34m(self, screenName, baseName, className, useTk, sync, use)\u001b[0m\n\u001b[1;32m   2300\u001b[0m                 \u001b[0mbaseName\u001b[0m \u001b[0;34m=\u001b[0m \u001b[0mbaseName\u001b[0m \u001b[0;34m+\u001b[0m \u001b[0mext\u001b[0m\u001b[0;34m\u001b[0m\u001b[0;34m\u001b[0m\u001b[0m\n\u001b[1;32m   2301\u001b[0m         \u001b[0minteractive\u001b[0m \u001b[0;34m=\u001b[0m \u001b[0;32mFalse\u001b[0m\u001b[0;34m\u001b[0m\u001b[0;34m\u001b[0m\u001b[0m\n\u001b[0;32m-> 2302\u001b[0;31m         \u001b[0mself\u001b[0m\u001b[0;34m.\u001b[0m\u001b[0mtk\u001b[0m \u001b[0;34m=\u001b[0m \u001b[0m_tkinter\u001b[0m\u001b[0;34m.\u001b[0m\u001b[0mcreate\u001b[0m\u001b[0;34m(\u001b[0m\u001b[0mscreenName\u001b[0m\u001b[0;34m,\u001b[0m \u001b[0mbaseName\u001b[0m\u001b[0;34m,\u001b[0m \u001b[0mclassName\u001b[0m\u001b[0;34m,\u001b[0m \u001b[0minteractive\u001b[0m\u001b[0;34m,\u001b[0m \u001b[0mwantobjects\u001b[0m\u001b[0;34m,\u001b[0m \u001b[0museTk\u001b[0m\u001b[0;34m,\u001b[0m \u001b[0msync\u001b[0m\u001b[0;34m,\u001b[0m \u001b[0muse\u001b[0m\u001b[0;34m)\u001b[0m\u001b[0;34m\u001b[0m\u001b[0;34m\u001b[0m\u001b[0m\n\u001b[0m\u001b[1;32m   2303\u001b[0m         \u001b[0;32mif\u001b[0m \u001b[0museTk\u001b[0m\u001b[0;34m:\u001b[0m\u001b[0;34m\u001b[0m\u001b[0;34m\u001b[0m\u001b[0m\n\u001b[1;32m   2304\u001b[0m             \u001b[0mself\u001b[0m\u001b[0;34m.\u001b[0m\u001b[0m_loadtk\u001b[0m\u001b[0;34m(\u001b[0m\u001b[0;34m)\u001b[0m\u001b[0;34m\u001b[0m\u001b[0;34m\u001b[0m\u001b[0m\n",
            "\u001b[0;31mTclError\u001b[0m: no display name and no $DISPLAY environment variable"
          ]
        }
      ]
    }
  ]
}